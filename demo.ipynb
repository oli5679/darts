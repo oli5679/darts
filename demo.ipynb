{
 "cells": [
  {
   "cell_type": "code",
   "execution_count": 1,
   "metadata": {},
   "outputs": [],
   "source": [
    "import darts_advisor"
   ]
  },
  {
   "cell_type": "code",
   "execution_count": 2,
   "metadata": {},
   "outputs": [],
   "source": [
    "# 'discount' by 'd' for every 3 darts thrown in order to evalaute relative speen of paths\n",
    "d = 0.95\n",
    "\n",
    "# how accurate is our player?\n",
    "a = {\n",
    "'pdd': 0.45,\n",
    "'pds' : 0.325,\n",
    "'ptt' : 0.4,\n",
    "'pbb' : 0.40,\n",
    "'pbob' : 0.4\n",
    "}"
   ]
  },
  {
   "cell_type": "code",
   "execution_count": 3,
   "metadata": {},
   "outputs": [],
   "source": [
    "p = darts_advisor.Player(d, a)"
   ]
  },
  {
   "cell_type": "code",
   "execution_count": 10,
   "metadata": {},
   "outputs": [
    {
     "data": {
      "text/html": [
       "<div>\n",
       "<style scoped>\n",
       "    .dataframe tbody tr th:only-of-type {\n",
       "        vertical-align: middle;\n",
       "    }\n",
       "\n",
       "    .dataframe tbody tr th {\n",
       "        vertical-align: top;\n",
       "    }\n",
       "\n",
       "    .dataframe thead th {\n",
       "        text-align: right;\n",
       "    }\n",
       "</style>\n",
       "<table border=\"1\" class=\"dataframe\">\n",
       "  <thead>\n",
       "    <tr style=\"text-align: right;\">\n",
       "      <th></th>\n",
       "      <th>first</th>\n",
       "      <th>second</th>\n",
       "      <th>third</th>\n",
       "    </tr>\n",
       "  </thead>\n",
       "  <tbody>\n",
       "    <tr>\n",
       "      <th>0</th>\n",
       "      <td>finished</td>\n",
       "      <td>finished</td>\n",
       "      <td>finished</td>\n",
       "    </tr>\n",
       "    <tr>\n",
       "      <th>1</th>\n",
       "      <td>bust</td>\n",
       "      <td>bust</td>\n",
       "      <td>bust</td>\n",
       "    </tr>\n",
       "    <tr>\n",
       "      <th>2</th>\n",
       "      <td>double 1</td>\n",
       "      <td>double 1</td>\n",
       "      <td>double 1</td>\n",
       "    </tr>\n",
       "    <tr>\n",
       "      <th>3</th>\n",
       "      <td>single 1</td>\n",
       "      <td>single 1</td>\n",
       "      <td>single 1</td>\n",
       "    </tr>\n",
       "    <tr>\n",
       "      <th>4</th>\n",
       "      <td>double 2</td>\n",
       "      <td>double 2</td>\n",
       "      <td>double 2</td>\n",
       "    </tr>\n",
       "    <tr>\n",
       "      <th>5</th>\n",
       "      <td>single 1</td>\n",
       "      <td>single 3</td>\n",
       "      <td>single 1</td>\n",
       "    </tr>\n",
       "    <tr>\n",
       "      <th>6</th>\n",
       "      <td>double 3</td>\n",
       "      <td>double 3</td>\n",
       "      <td>double 3</td>\n",
       "    </tr>\n",
       "    <tr>\n",
       "      <th>7</th>\n",
       "      <td>single 3</td>\n",
       "      <td>single 5</td>\n",
       "      <td>single 3</td>\n",
       "    </tr>\n",
       "    <tr>\n",
       "      <th>8</th>\n",
       "      <td>double 4</td>\n",
       "      <td>double 4</td>\n",
       "      <td>double 4</td>\n",
       "    </tr>\n",
       "    <tr>\n",
       "      <th>9</th>\n",
       "      <td>single 5</td>\n",
       "      <td>single 7</td>\n",
       "      <td>single 1</td>\n",
       "    </tr>\n",
       "    <tr>\n",
       "      <th>10</th>\n",
       "      <td>double 5</td>\n",
       "      <td>double 5</td>\n",
       "      <td>double 5</td>\n",
       "    </tr>\n",
       "    <tr>\n",
       "      <th>11</th>\n",
       "      <td>single 7</td>\n",
       "      <td>single 9</td>\n",
       "      <td>single 3</td>\n",
       "    </tr>\n",
       "    <tr>\n",
       "      <th>12</th>\n",
       "      <td>double 6</td>\n",
       "      <td>double 6</td>\n",
       "      <td>double 6</td>\n",
       "    </tr>\n",
       "    <tr>\n",
       "      <th>13</th>\n",
       "      <td>single 9</td>\n",
       "      <td>single 11</td>\n",
       "      <td>single 5</td>\n",
       "    </tr>\n",
       "    <tr>\n",
       "      <th>14</th>\n",
       "      <td>double 7</td>\n",
       "      <td>double 7</td>\n",
       "      <td>double 7</td>\n",
       "    </tr>\n",
       "    <tr>\n",
       "      <th>15</th>\n",
       "      <td>single 11</td>\n",
       "      <td>single 13</td>\n",
       "      <td>single 7</td>\n",
       "    </tr>\n",
       "    <tr>\n",
       "      <th>16</th>\n",
       "      <td>double 8</td>\n",
       "      <td>double 8</td>\n",
       "      <td>double 8</td>\n",
       "    </tr>\n",
       "    <tr>\n",
       "      <th>17</th>\n",
       "      <td>single 13</td>\n",
       "      <td>single 15</td>\n",
       "      <td>single 9</td>\n",
       "    </tr>\n",
       "    <tr>\n",
       "      <th>18</th>\n",
       "      <td>double 9</td>\n",
       "      <td>double 9</td>\n",
       "      <td>double 9</td>\n",
       "    </tr>\n",
       "    <tr>\n",
       "      <th>19</th>\n",
       "      <td>single 15</td>\n",
       "      <td>single 17</td>\n",
       "      <td>single 11</td>\n",
       "    </tr>\n",
       "    <tr>\n",
       "      <th>20</th>\n",
       "      <td>double 10</td>\n",
       "      <td>double 10</td>\n",
       "      <td>double 10</td>\n",
       "    </tr>\n",
       "    <tr>\n",
       "      <th>21</th>\n",
       "      <td>single 17</td>\n",
       "      <td>single 19</td>\n",
       "      <td>single 13</td>\n",
       "    </tr>\n",
       "    <tr>\n",
       "      <th>22</th>\n",
       "      <td>double 11</td>\n",
       "      <td>double 11</td>\n",
       "      <td>double 11</td>\n",
       "    </tr>\n",
       "    <tr>\n",
       "      <th>23</th>\n",
       "      <td>single 19</td>\n",
       "      <td>triple 7</td>\n",
       "      <td>single 15</td>\n",
       "    </tr>\n",
       "    <tr>\n",
       "      <th>24</th>\n",
       "      <td>double 12</td>\n",
       "      <td>double 12</td>\n",
       "      <td>double 12</td>\n",
       "    </tr>\n",
       "    <tr>\n",
       "      <th>25</th>\n",
       "      <td>single 9</td>\n",
       "      <td>single 9</td>\n",
       "      <td>single 17</td>\n",
       "    </tr>\n",
       "    <tr>\n",
       "      <th>26</th>\n",
       "      <td>double 13</td>\n",
       "      <td>double 13</td>\n",
       "      <td>double 13</td>\n",
       "    </tr>\n",
       "    <tr>\n",
       "      <th>27</th>\n",
       "      <td>single 11</td>\n",
       "      <td>single 11</td>\n",
       "      <td>single 19</td>\n",
       "    </tr>\n",
       "    <tr>\n",
       "      <th>28</th>\n",
       "      <td>double 14</td>\n",
       "      <td>double 14</td>\n",
       "      <td>double 14</td>\n",
       "    </tr>\n",
       "    <tr>\n",
       "      <th>29</th>\n",
       "      <td>single 13</td>\n",
       "      <td>triple 9</td>\n",
       "      <td>single 13</td>\n",
       "    </tr>\n",
       "  </tbody>\n",
       "</table>\n",
       "</div>"
      ],
      "text/plain": [
       "        first     second      third\n",
       "0    finished   finished   finished\n",
       "1        bust       bust       bust\n",
       "2    double 1   double 1   double 1\n",
       "3    single 1   single 1   single 1\n",
       "4    double 2   double 2   double 2\n",
       "5    single 1   single 3   single 1\n",
       "6    double 3   double 3   double 3\n",
       "7    single 3   single 5   single 3\n",
       "8    double 4   double 4   double 4\n",
       "9    single 5   single 7   single 1\n",
       "10   double 5   double 5   double 5\n",
       "11   single 7   single 9   single 3\n",
       "12   double 6   double 6   double 6\n",
       "13   single 9  single 11   single 5\n",
       "14   double 7   double 7   double 7\n",
       "15  single 11  single 13   single 7\n",
       "16   double 8   double 8   double 8\n",
       "17  single 13  single 15   single 9\n",
       "18   double 9   double 9   double 9\n",
       "19  single 15  single 17  single 11\n",
       "20  double 10  double 10  double 10\n",
       "21  single 17  single 19  single 13\n",
       "22  double 11  double 11  double 11\n",
       "23  single 19   triple 7  single 15\n",
       "24  double 12  double 12  double 12\n",
       "25   single 9   single 9  single 17\n",
       "26  double 13  double 13  double 13\n",
       "27  single 11  single 11  single 19\n",
       "28  double 14  double 14  double 14\n",
       "29  single 13   triple 9  single 13"
      ]
     },
     "execution_count": 10,
     "metadata": {},
     "output_type": "execute_result"
    }
   ],
   "source": [
    "p.strategies.head(30)"
   ]
  },
  {
   "cell_type": "code",
   "execution_count": 5,
   "metadata": {},
   "outputs": [
    {
     "data": {
      "text/plain": [
       "array([[1.        , 0.        , 0.96422413],\n",
       "       [1.        , 0.        , 0.9623108 ],\n",
       "       [1.        , 0.        , 0.95380711]])"
      ]
     },
     "execution_count": 5,
     "metadata": {},
     "output_type": "execute_result"
    }
   ],
   "source": [
    "p.strategy_values[:,0:3]"
   ]
  },
  {
   "cell_type": "code",
   "execution_count": 6,
   "metadata": {},
   "outputs": [],
   "source": [
    "score = 4\n",
    "current_throw = 0"
   ]
  },
  {
   "cell_type": "code",
   "execution_count": 7,
   "metadata": {},
   "outputs": [],
   "source": [
    "all_strategies = (p.evaluate_all_singles(score, current_throw)\n",
    "                          + p.evaluate_all_doubles(score, current_throw)\n",
    "                          + p.evaluate_all_triples(score, current_throw)\n",
    "                          + p.evaluate_bull(score, current_throw))"
   ]
  },
  {
   "cell_type": "code",
   "execution_count": null,
   "metadata": {},
   "outputs": [],
   "source": []
  },
  {
   "cell_type": "code",
   "execution_count": null,
   "metadata": {},
   "outputs": [],
   "source": []
  },
  {
   "cell_type": "code",
   "execution_count": 8,
   "metadata": {},
   "outputs": [
    {
     "data": {
      "text/plain": [
       "{'strategy': 'double 2', 'expectation': 0.981077953726318}"
      ]
     },
     "execution_count": 8,
     "metadata": {},
     "output_type": "execute_result"
    }
   ],
   "source": [
    "sorted(all_strategies,key = lambda x: x['expectation'])[-1]"
   ]
  },
  {
   "cell_type": "code",
   "execution_count": 9,
   "metadata": {},
   "outputs": [
    {
     "data": {
      "text/plain": [
       "[{'strategy': 'single 1', 'expectation': 0.9538071079312671},\n",
       " {'strategy': 'single 2', 'expectation': 0.9623107994257384},\n",
       " {'strategy': 'double 1', 'expectation': 0.9613541137321971},\n",
       " {'strategy': 'double 2', 'expectation': 0.981077953726318}]"
      ]
     },
     "execution_count": 9,
     "metadata": {},
     "output_type": "execute_result"
    }
   ],
   "source": [
    "all_strategies"
   ]
  },
  {
   "cell_type": "code",
   "execution_count": null,
   "metadata": {},
   "outputs": [],
   "source": []
  }
 ],
 "metadata": {
  "kernelspec": {
   "display_name": "Python 3",
   "language": "python",
   "name": "python3"
  },
  "language_info": {
   "codemirror_mode": {
    "name": "ipython",
    "version": 3
   },
   "file_extension": ".py",
   "mimetype": "text/x-python",
   "name": "python",
   "nbconvert_exporter": "python",
   "pygments_lexer": "ipython3",
   "version": "3.7.1"
  }
 },
 "nbformat": 4,
 "nbformat_minor": 2
}
