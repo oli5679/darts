{
 "cells": [
  {
   "cell_type": "code",
   "execution_count": 14,
   "metadata": {},
   "outputs": [],
   "source": [
    "import updated_model\n",
    "import numpy as np\n",
    "from tqdm import tqdm"
   ]
  },
  {
   "cell_type": "code",
   "execution_count": 75,
   "metadata": {},
   "outputs": [
    {
     "data": {
      "text/plain": [
       "{'pss': 0.95,\n",
       " 'pssn': 0.025,\n",
       " 'pdd': 0.45,\n",
       " 'pds': 0.27,\n",
       " 'pddn': 0,\n",
       " 'pdsn': 0,\n",
       " 'pdm': 0.28,\n",
       " 'ptt': 0.45,\n",
       " 'pts': 0.55,\n",
       " 'pttn': 0,\n",
       " 'ptsn': 0,\n",
       " 'pbb': 0.35,\n",
       " 'pbob': 0.45,\n",
       " 'pbs': 0.01,\n",
       " 'pobb': 0.34,\n",
       " 'pobob': 0.46,\n",
       " 'pobs': 0.01}"
      ]
     },
     "execution_count": 75,
     "metadata": {},
     "output_type": "execute_result"
    }
   ],
   "source": [
    "ACCURACY = updated_model.ACCURACY; ACCURACY"
   ]
  },
  {
   "cell_type": "code",
   "execution_count": 16,
   "metadata": {},
   "outputs": [],
   "source": [
    "OUTCOME_MAP = updated_model.OUTCOME_MAP\n",
    "\n"
   ]
  },
  {
   "cell_type": "code",
   "execution_count": 17,
   "metadata": {},
   "outputs": [
    {
     "data": {
      "text/plain": [
       "{'target': 20, 'lower': 5, 'upper': 1, 'constant': 1}"
      ]
     },
     "execution_count": 17,
     "metadata": {},
     "output_type": "execute_result"
    }
   ],
   "source": [
    "updated_model.get_neighbours(20)"
   ]
  },
  {
   "cell_type": "code",
   "execution_count": 63,
   "metadata": {},
   "outputs": [],
   "source": [
    "def sim_strat(score,throw,strategies,accuracy,debug=False):\n",
    "    count = 0\n",
    "    ongoing_flag = True\n",
    "    while ongoing_flag:\n",
    "        if throw == 3:\n",
    "            throw = 0\n",
    "            count += 1\n",
    "        \n",
    "        strategy = strategies[throw][score]\n",
    "        targets = updated_model.get_neighbours(strategy[1])\n",
    "        outcomes = updated_model.OUTCOME_MAP[strategy[0]]\n",
    "        probs = [accuracy[outcome[0]] for outcome in outcomes]\n",
    "        outcome = outcomes[np.random.choice(range(len(outcomes)),p=probs)]\n",
    "        if debug:\n",
    "            print('s: {}'.format(strategy))\n",
    "            print('o: {}'.format(outcome))\n",
    "            print('throw {} {}'.format(count,throw))\n",
    "        throw += 1\n",
    "\n",
    "        \n",
    "        payoff = outcome[1] * targets[outcome[2]]\n",
    "        if score - payoff == 0 and outcome[1] == 2:\n",
    "            break\n",
    "        \n",
    "        if score == 50 and outcome == 50:\n",
    "            break\n",
    "\n",
    "        if ongoing_flag and score - payoff <= 1:\n",
    "            count += 1\n",
    "            throw -= 1\n",
    "        else:\n",
    "            score = int(score - payoff)\n",
    "\n",
    "    return count\n",
    "        \n",
    "        "
   ]
  },
  {
   "cell_type": "code",
   "execution_count": 64,
   "metadata": {},
   "outputs": [],
   "source": [
    "def sim_expectations(score,throw,strategies,accuracy,num_sims):\n",
    "    sims = [sim_strat(score,throw,strategies,accuracy) for x in range(num_sims)]\n",
    "    return sum(sims)/num_sims\n",
    "\n"
   ]
  },
  {
   "cell_type": "code",
   "execution_count": 65,
   "metadata": {},
   "outputs": [
    {
     "name": "stderr",
     "output_type": "stream",
     "text": [
      "100%|██████████| 58/58 [00:00<00:00, 920.30it/s]\n"
     ]
    }
   ],
   "source": [
    "max_val = 60\n",
    "optimal_strategies, optimal_strategy_values = updated_model.gen_optimal_strategies(updated_model.ACCURACY,max_val)"
   ]
  },
  {
   "cell_type": "code",
   "execution_count": 66,
   "metadata": {},
   "outputs": [],
   "source": [
    "#baseline_strategies, baseline_strategy_values = updated_model.gen_baseline_strategies(updated_model.ACCURACY,180)"
   ]
  },
  {
   "cell_type": "code",
   "execution_count": 67,
   "metadata": {},
   "outputs": [
    {
     "data": {
      "text/plain": [
       "0.354"
      ]
     },
     "execution_count": 67,
     "metadata": {},
     "output_type": "execute_result"
    }
   ],
   "source": [
    "score = 30\n",
    "throw = 0\n",
    "strategies = optimal_strategies\n",
    "accuracy = updated_model.ACCURACY\n",
    "sim_strat(score,throw,strategies,accuracy)\n",
    "sim_expectations(score,throw,strategies,accuracy,1000)\n"
   ]
  },
  {
   "cell_type": "code",
   "execution_count": 68,
   "metadata": {},
   "outputs": [],
   "source": [
    "def sim_all_strategies(max_score,strategies,accuracy,num_sims):\n",
    "\n",
    "    sim_strategy_values = np.empty((3,max_score))\n",
    "    for score in range(2,max_score):\n",
    "        for throw in range(3):\n",
    "            sim_strategy_values[throw][score] = sim_expectations(score,throw,optimal_strategies,ACCURACY,num_sims)\n",
    "    return sim_strategy_values\n",
    "\n",
    "sim_strategies = sim_all_strategies(30,optimal_strategies,ACCURACY,5000)"
   ]
  },
  {
   "cell_type": "code",
   "execution_count": 69,
   "metadata": {},
   "outputs": [
    {
     "data": {
      "image/png": "[encoded data removed]",
      "text/plain": [
       "<Figure size 432x288 with 1 Axes>"
      ]
     },
     "metadata": {},
     "output_type": "display_data"
    }
   ],
   "source": [
    "import matplotlib.pyplot as plt\n",
    "import seaborn\n",
    "\n",
    "def plot(sim,opt,start,stop):\n",
    "    plt.plot(range(start,stop),sim[start:stop],'green')\n",
    "    plt.plot(range(start,stop),opt[start:stop],'grey')\n",
    "    plt.xticks(range(start,stop))\n",
    "    plt.grid(axis='x')\n",
    "    plt.show()\n",
    "\n",
    "start = 2\n",
    "stop = 20\n",
    "plot(sim_strategies[0],optimal_strategy_values[0],start,stop)\n"
   ]
  },
  {
   "cell_type": "code",
   "execution_count": 70,
   "metadata": {},
   "outputs": [
    {
     "data": {
      "image/png": "[encoded data removed]",
      "text/plain": [
       "<Figure size 432x288 with 1 Axes>"
      ]
     },
     "metadata": {},
     "output_type": "display_data"
    }
   ],
   "source": [
    "plot(sim_strategies[1],optimal_strategy_values[1],start,stop)"
   ]
  },
  {
   "cell_type": "code",
   "execution_count": 71,
   "metadata": {},
   "outputs": [
    {
     "data": {
      "image/png": "[encoded data removed]",
      "text/plain": [
       "<Figure size 432x288 with 1 Axes>"
      ]
     },
     "metadata": {},
     "output_type": "display_data"
    }
   ],
   "source": [
    "plot(sim_strategies[2],optimal_strategy_values[2],start,stop)"
   ]
  },
  {
   "cell_type": "code",
   "execution_count": 111,
   "metadata": {},
   "outputs": [
    {
     "data": {
      "text/plain": [
       "0.635911529904463"
      ]
     },
     "execution_count": 111,
     "metadata": {},
     "output_type": "execute_result"
    }
   ],
   "source": [
    "sim_strategies[0][2]\n",
    "optimal_strategy_values[0][2]"
   ]
  },
  {
   "cell_type": "code",
   "execution_count": 47,
   "metadata": {},
   "outputs": [
    {
     "data": {
      "text/plain": [
       "0.6936264886794924"
      ]
     },
     "execution_count": 47,
     "metadata": {},
     "output_type": "execute_result"
    }
   ],
   "source": [
    "optimal_strategy_values[1][2]"
   ]
  },
  {
   "cell_type": "code",
   "execution_count": 48,
   "metadata": {},
   "outputs": [
    {
     "data": {
      "text/plain": [
       "0.7462580676268609"
      ]
     },
     "execution_count": 48,
     "metadata": {},
     "output_type": "execute_result"
    }
   ],
   "source": [
    "optimal_strategy_values[0][3]"
   ]
  },
  {
   "cell_type": "code",
   "execution_count": 50,
   "metadata": {},
   "outputs": [
    {
     "data": {
      "text/plain": [
       "0.8502"
      ]
     },
     "execution_count": 50,
     "metadata": {},
     "output_type": "execute_result"
    }
   ],
   "source": [
    "sim_strategies[0][3]"
   ]
  },
  {
   "cell_type": "code",
   "execution_count": 76,
   "metadata": {},
   "outputs": [
    {
     "name": "stdout",
     "output_type": "stream",
     "text": [
      "s: [1. 1.]\n",
      "o: ['pss', 1, 'target']\n",
      "throw 0 0\n",
      "s: [2. 1.]\n",
      "o: ['pdm', 0, 'constant']\n",
      "throw 0 1\n",
      "s: [2. 1.]\n",
      "o: ['pds', 1, 'target']\n",
      "throw 0 2\n",
      "s: [2. 1.]\n",
      "o: ['pdd', 2, 'target']\n",
      "throw 1 2\n",
      "ans 1\n",
      "s: [1. 1.]\n",
      "o: ['pss', 1, 'target']\n",
      "throw 0 0\n",
      "s: [2. 1.]\n",
      "o: ['pdd', 2, 'target']\n",
      "throw 0 1\n",
      "ans 0\n",
      "s: [1. 1.]\n",
      "o: ['pss', 1, 'target']\n",
      "throw 0 0\n",
      "s: [2. 1.]\n",
      "o: ['pdm', 0, 'constant']\n",
      "throw 0 1\n",
      "s: [2. 1.]\n",
      "o: ['pdm', 0, 'constant']\n",
      "throw 0 2\n",
      "s: [2. 1.]\n",
      "o: ['pds', 1, 'target']\n",
      "throw 1 0\n",
      "s: [2. 1.]\n",
      "o: ['pdd', 2, 'target']\n",
      "throw 2 0\n",
      "ans 2\n",
      "s: [1. 1.]\n",
      "o: ['pss', 1, 'target']\n",
      "throw 0 0\n",
      "s: [2. 1.]\n",
      "o: ['pdd', 2, 'target']\n",
      "throw 0 1\n",
      "ans 0\n",
      "s: [1. 1.]\n",
      "o: ['pss', 1, 'target']\n",
      "throw 0 0\n",
      "s: [2. 1.]\n",
      "o: ['pds', 1, 'target']\n",
      "throw 0 1\n",
      "s: [2. 1.]\n",
      "o: ['pdm', 0, 'constant']\n",
      "throw 1 1\n",
      "s: [2. 1.]\n",
      "o: ['pdd', 2, 'target']\n",
      "throw 1 2\n",
      "ans 1\n",
      "s: [1. 1.]\n",
      "o: ['pssn', 1, 'upper']\n",
      "throw 0 0\n",
      "s: [1. 1.]\n",
      "o: ['pss', 1, 'target']\n",
      "throw 1 0\n",
      "s: [2. 1.]\n",
      "o: ['pdm', 0, 'constant']\n",
      "throw 1 1\n",
      "s: [2. 1.]\n",
      "o: ['pds', 1, 'target']\n",
      "throw 1 2\n",
      "s: [2. 1.]\n",
      "o: ['pds', 1, 'target']\n",
      "throw 2 2\n",
      "s: [2. 1.]\n",
      "o: ['pds', 1, 'target']\n",
      "throw 3 2\n",
      "s: [2. 1.]\n",
      "o: ['pdd', 2, 'target']\n",
      "throw 4 2\n",
      "ans 4\n",
      "s: [1. 1.]\n",
      "o: ['pss', 1, 'target']\n",
      "throw 0 0\n",
      "s: [2. 1.]\n",
      "o: ['pds', 1, 'target']\n",
      "throw 0 1\n",
      "s: [2. 1.]\n",
      "o: ['pdd', 2, 'target']\n",
      "throw 1 1\n",
      "ans 1\n",
      "s: [1. 1.]\n",
      "o: ['pss', 1, 'target']\n",
      "throw 0 0\n",
      "s: [2. 1.]\n",
      "o: ['pdd', 2, 'target']\n",
      "throw 0 1\n",
      "ans 0\n",
      "s: [1. 1.]\n",
      "o: ['pss', 1, 'target']\n",
      "throw 0 0\n",
      "s: [2. 1.]\n",
      "o: ['pdm', 0, 'constant']\n",
      "throw 0 1\n",
      "s: [2. 1.]\n",
      "o: ['pds', 1, 'target']\n",
      "throw 0 2\n",
      "s: [2. 1.]\n",
      "o: ['pdd', 2, 'target']\n",
      "throw 1 2\n",
      "ans 1\n",
      "s: [1. 1.]\n",
      "o: ['pss', 1, 'target']\n",
      "throw 0 0\n",
      "s: [2. 1.]\n",
      "o: ['pds', 1, 'target']\n",
      "throw 0 1\n",
      "s: [2. 1.]\n",
      "o: ['pds', 1, 'target']\n",
      "throw 1 1\n",
      "s: [2. 1.]\n",
      "o: ['pdd', 2, 'target']\n",
      "throw 2 1\n",
      "ans 2\n",
      "s: [1. 1.]\n",
      "o: ['pss', 1, 'target']\n",
      "throw 0 0\n",
      "s: [2. 1.]\n",
      "o: ['pdm', 0, 'constant']\n",
      "throw 0 1\n",
      "s: [2. 1.]\n",
      "o: ['pdd', 2, 'target']\n",
      "throw 0 2\n",
      "ans 0\n",
      "s: [1. 1.]\n",
      "o: ['pss', 1, 'target']\n",
      "throw 0 0\n",
      "s: [2. 1.]\n",
      "o: ['pds', 1, 'target']\n",
      "throw 0 1\n",
      "s: [2. 1.]\n",
      "o: ['pds', 1, 'target']\n",
      "throw 1 1\n",
      "s: [2. 1.]\n",
      "o: ['pds', 1, 'target']\n",
      "throw 2 1\n",
      "s: [2. 1.]\n",
      "o: ['pds', 1, 'target']\n",
      "throw 3 1\n",
      "s: [2. 1.]\n",
      "o: ['pdm', 0, 'constant']\n",
      "throw 4 1\n",
      "s: [2. 1.]\n",
      "o: ['pdd', 2, 'target']\n",
      "throw 4 2\n",
      "ans 4\n",
      "s: [1. 1.]\n",
      "o: ['pss', 1, 'target']\n",
      "throw 0 0\n",
      "s: [2. 1.]\n",
      "o: ['pdm', 0, 'constant']\n",
      "throw 0 1\n",
      "s: [2. 1.]\n",
      "o: ['pdd', 2, 'target']\n",
      "throw 0 2\n",
      "ans 0\n",
      "s: [1. 1.]\n",
      "o: ['pss', 1, 'target']\n",
      "throw 0 0\n",
      "s: [2. 1.]\n",
      "o: ['pds', 1, 'target']\n",
      "throw 0 1\n",
      "s: [2. 1.]\n",
      "o: ['pds', 1, 'target']\n",
      "throw 1 1\n",
      "s: [2. 1.]\n",
      "o: ['pdd', 2, 'target']\n",
      "throw 2 1\n",
      "ans 2\n",
      "s: [1. 1.]\n",
      "o: ['pss', 1, 'target']\n",
      "throw 0 0\n",
      "s: [2. 1.]\n",
      "o: ['pds', 1, 'target']\n",
      "throw 0 1\n",
      "s: [2. 1.]\n",
      "o: ['pdm', 0, 'constant']\n",
      "throw 1 1\n",
      "s: [2. 1.]\n",
      "o: ['pds', 1, 'target']\n",
      "throw 1 2\n",
      "s: [2. 1.]\n",
      "o: ['pdd', 2, 'target']\n",
      "throw 2 2\n",
      "ans 2\n",
      "s: [1. 1.]\n",
      "o: ['pss', 1, 'target']\n",
      "throw 0 0\n",
      "s: [2. 1.]\n",
      "o: ['pdd', 2, 'target']\n",
      "throw 0 1\n",
      "ans 0\n",
      "s: [1. 1.]\n",
      "o: ['pss', 1, 'target']\n",
      "throw 0 0\n",
      "s: [2. 1.]\n",
      "o: ['pdd', 2, 'target']\n",
      "throw 0 1\n",
      "ans 0\n",
      "s: [1. 1.]\n",
      "o: ['pss', 1, 'target']\n",
      "throw 0 0\n",
      "s: [2. 1.]\n",
      "o: ['pdd', 2, 'target']\n",
      "throw 0 1\n",
      "ans 0\n",
      "s: [1. 1.]\n",
      "o: ['pss', 1, 'target']\n",
      "throw 0 0\n",
      "s: [2. 1.]\n",
      "o: ['pdm', 0, 'constant']\n",
      "throw 0 1\n",
      "s: [2. 1.]\n",
      "o: ['pds', 1, 'target']\n",
      "throw 0 2\n",
      "s: [2. 1.]\n",
      "o: ['pdd', 2, 'target']\n",
      "throw 1 2\n",
      "ans 1\n",
      "s: [1. 1.]\n",
      "o: ['pss', 1, 'target']\n",
      "throw 0 0\n",
      "s: [2. 1.]\n",
      "o: ['pdm', 0, 'constant']\n",
      "throw 0 1\n",
      "s: [2. 1.]\n",
      "o: ['pds', 1, 'target']\n",
      "throw 0 2\n",
      "s: [2. 1.]\n",
      "o: ['pdd', 2, 'target']\n",
      "throw 1 2\n",
      "ans 1\n"
     ]
    }
   ],
   "source": [
    "for i in range(20):\n",
    "    ans = sim_strat(3,0,optimal_strategies,ACCURACY,debug=True)\n",
    "    print('ans {}'.format(ans))"
   ]
  },
  {
   "cell_type": "code",
   "execution_count": null,
   "metadata": {},
   "outputs": [],
   "source": []
  }
 ],
 "metadata": {
  "kernelspec": {
   "display_name": "Python 3",
   "language": "python",
   "name": "python3"
  },
  "language_info": {
   "codemirror_mode": {
    "name": "ipython",
    "version": 3
   },
   "file_extension": ".py",
   "mimetype": "text/x-python",
   "name": "python",
   "nbconvert_exporter": "python",
   "pygments_lexer": "ipython3",
   "version": "3.6.5"
  }
 },
 "nbformat": 4,
 "nbformat_minor": 2
}
